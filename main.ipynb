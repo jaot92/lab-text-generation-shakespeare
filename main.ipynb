{
 "cells": [
  {
   "cell_type": "markdown",
   "metadata": {},
   "source": [
    "# Lab | Text Generation from Shakespeare's Sonnet\n",
    "\n",
    "This notebook explores the fascinating domain of text generation using a deep learning model trained on Shakespeare's sonnets. \n",
    "\n",
    "The objective is to create a neural network capable of generating text sequences that mimic the style and language of Shakespeare.\n",
    "\n",
    "By utilizing a Recurrent Neural Network (RNN) with Long Short-Term Memory (LSTM) layers, this project aims to demonstrate how a model can learn and replicate the complex patterns of early modern English. \n",
    "\n",
    "The dataset used consists of Shakespeare's sonnets, which are preprocessed and tokenized to serve as input for the model.\n",
    "\n",
    "Throughout this notebook, you will see the steps taken to prepare the data, build and train the model, and evaluate its performance in generating text. \n",
    "\n",
    "This lab provides a hands-on approach to understanding the intricacies of natural language processing (NLP) and the potential of machine learning in creative text generation."
   ]
  },
  {
   "cell_type": "markdown",
   "metadata": {},
   "source": [
    "Let's import necessary libraries"
   ]
  },
  {
   "cell_type": "code",
   "execution_count": 1,
   "metadata": {
    "id": "BOwsuGQQY9OL",
    "tags": []
   },
   "outputs": [],
   "source": [
    "from tensorflow.keras.preprocessing.sequence import pad_sequences\n",
    "from tensorflow.keras.layers import Embedding, LSTM, Dense, Dropout, Bidirectional\n",
    "from tensorflow.keras.preprocessing.text import Tokenizer\n",
    "from tensorflow.keras.models import Sequential\n",
    "from tensorflow.keras.optimizers import Adam\n",
    "from tensorflow.keras import regularizers\n",
    "import tensorflow.keras.utils as ku \n",
    "import numpy as np"
   ]
  },
  {
   "cell_type": "markdown",
   "metadata": {},
   "source": [
    "Let's get the data!"
   ]
  },
  {
   "cell_type": "code",
   "execution_count": 2,
   "metadata": {
    "tags": []
   },
   "outputs": [],
   "source": [
    "import requests\n",
    "url = 'https://raw.githubusercontent.com/martin-gorner/tensorflow-rnn-shakespeare/master/shakespeare/sonnets.txt'\n",
    "resp = requests.get(url)\n",
    "with open('sonnets.txt', 'wb') as f:\n",
    "    f.write(resp.content)\n",
    "\n",
    "data = open('sonnets.txt').read()\n",
    "\n",
    "corpus = data.lower().split(\"\\n\")"
   ]
  },
  {
   "cell_type": "markdown",
   "metadata": {},
   "source": [
    "Step 1: Initialise a tokenizer and fit it on the corpus variable using .fit_on_texts"
   ]
  },
  {
   "cell_type": "code",
   "execution_count": 3,
   "metadata": {},
   "outputs": [],
   "source": [
    "# Initialize the tokenizer\n",
    "tokenizer = Tokenizer()\n",
    "\n",
    "# Fit the tokenizer on the corpus\n",
    "tokenizer.fit_on_texts(corpus)"
   ]
  },
  {
   "cell_type": "markdown",
   "metadata": {},
   "source": [
    "Step 2: Calculate the Vocabulary Size\n",
    "\n",
    "Let's figure out how many unique words are in your corpus. This will be the size of your vocabulary.\n",
    "\n",
    "Calculate the length of tokenizer.word_index, add 1 to it and store it in a variable called total_words."
   ]
  },
  {
   "cell_type": "code",
   "execution_count": 4,
   "metadata": {},
   "outputs": [
    {
     "name": "stdout",
     "output_type": "stream",
     "text": [
      "Total unique words: 3375\n"
     ]
    }
   ],
   "source": [
    "# Calculate vocabulary size\n",
    "total_words = len(tokenizer.word_index) + 1\n",
    "print(f\"Total unique words: {total_words}\")"
   ]
  },
  {
   "cell_type": "markdown",
   "metadata": {},
   "source": [
    "Create an empty list called input_sequences.\n",
    "\n",
    "For each sentence in your corpus, convert the text into a sequence of integers using the tokenizer.\n",
    "Then, generate n-gram sequences from these tokens.\n",
    "\n",
    "Store the result in the list input_sequences."
   ]
  },
  {
   "cell_type": "code",
   "execution_count": 5,
   "metadata": {},
   "outputs": [
    {
     "name": "stdout",
     "output_type": "stream",
     "text": [
      "Primeras 3 secuencias antes del padding:\n",
      "[3, 2]\n",
      "[3, 2, 313]\n",
      "[3, 2, 313, 1375]\n"
     ]
    }
   ],
   "source": [
    "# Create input sequences\n",
    "input_sequences = []\n",
    "\n",
    "for line in corpus:\n",
    "    # Convert the line of text into a sequence of integers\n",
    "    token_list = tokenizer.texts_to_sequences([line])[0]\n",
    "    \n",
    "    # Create n-grams\n",
    "    for i in range(1, len(token_list)):\n",
    "        n_gram_sequence = token_list[:i+1]\n",
    "        input_sequences.append(n_gram_sequence)\n",
    "\n",
    "# Veamos algunas secuencias originales\n",
    "print(\"Primeras 3 secuencias antes del padding:\")\n",
    "for seq in input_sequences[:3]:\n",
    "    print(seq)"
   ]
  },
  {
   "cell_type": "markdown",
   "metadata": {},
   "source": [
    "Calculate the length of the longest sequence in input_sequences. Assign the result to a variable called max_sequence_len.\n",
    "\n",
    "Now pad the sequences using pad_sequences(input_sequences, maxlen=max_sequence_len, padding='pre').\n",
    "Convert it to a numpy array and assign the result back to our variable called input_sequences."
   ]
  },
  {
   "cell_type": "code",
   "execution_count": 6,
   "metadata": {},
   "outputs": [
    {
     "name": "stdout",
     "output_type": "stream",
     "text": [
      "\n",
      "Longitud máxima de secuencia: 11\n",
      "\n",
      "Primeras 3 secuencias después del padding:\n",
      "[0 0 0 0 0 0 0 0 0 3 2]\n",
      "[  0   0   0   0   0   0   0   0   3   2 313]\n",
      "[   0    0    0    0    0    0    0    3    2  313 1375]\n",
      "\n",
      "Ejemplo decodificado:\n",
      "Secuencia numérica: [0 0 0 0 0 0 0 0 0 3 2]\n",
      "Texto decodificado: to the\n"
     ]
    }
   ],
   "source": [
    "# Find the length of the longest sequence\n",
    "max_sequence_len = max([len(x) for x in input_sequences])\n",
    "print(f\"\\nLongitud máxima de secuencia: {max_sequence_len}\")\n",
    "\n",
    "# Pad sequences to make them all the same length\n",
    "input_sequences = pad_sequences(input_sequences, maxlen=max_sequence_len, padding='pre')\n",
    "print(\"\\nPrimeras 3 secuencias después del padding:\")\n",
    "for seq in input_sequences[:3]:\n",
    "    print(seq)\n",
    "\n",
    "# Para ver las palabras reales, podemos decodificar una secuencia\n",
    "print(\"\\nEjemplo decodificado:\")\n",
    "# Creamos un diccionario inverso para convertir números a palabras\n",
    "reverse_word_map = dict(map(reversed, tokenizer.word_index.items()))\n",
    "def sequence_to_text(sequence):\n",
    "    return ' '.join(reverse_word_map.get(i, '?') for i in sequence if i != 0)\n",
    "\n",
    "print(\"Secuencia numérica:\", input_sequences[0])\n",
    "print(\"Texto decodificado:\", sequence_to_text(input_sequences[0]))"
   ]
  },
  {
   "cell_type": "markdown",
   "metadata": {},
   "source": [
    "Prepare Predictors and Labels\n",
    "\n",
    "Split the sequences into two parts:\n",
    "\n",
    "- Predictors: All elements from input_sequences except the last one.\n",
    "- Labels: The last element of each sequence in input_sequences."
   ]
  },
  {
   "cell_type": "code",
   "execution_count": 7,
   "metadata": {
    "id": "PRnDnCW-Z7qv",
    "tags": []
   },
   "outputs": [
    {
     "name": "stdout",
     "output_type": "stream",
     "text": [
      "\n",
      "Forma de los predictores: (15484, 10)\n",
      "Forma de las etiquetas: (15484,)\n",
      "\n",
      "Ejemplo de predictor y etiqueta:\n",
      "Predictor: to\n",
      "Etiqueta: the\n"
     ]
    }
   ],
   "source": [
    "# Split sequences into input and output\n",
    "predictors = input_sequences[:, :-1]\n",
    "labels = input_sequences[:, -1]\n",
    "\n",
    "print(\"\\nForma de los predictores:\", predictors.shape)\n",
    "print(\"Forma de las etiquetas:\", labels.shape)\n",
    "\n",
    "print(\"\\nEjemplo de predictor y etiqueta:\")\n",
    "print(\"Predictor:\", sequence_to_text(predictors[0]))\n",
    "print(\"Etiqueta:\", sequence_to_text([labels[0]]))"
   ]
  },
  {
   "cell_type": "markdown",
   "metadata": {},
   "source": [
    "One-Hot Encode the Labels :\n",
    "\n",
    "Convert the labels (which are integers) into one-hot encoded vectors. \n",
    "\n",
    "Ensure the length of these vectors matches the total number of unique words in your vocabulary.\n",
    "\n",
    "Use ku.to_categorical() on labels with num_classes = total_words\n",
    "\n",
    "Assign the result back to our variable labels."
   ]
  },
  {
   "cell_type": "code",
   "execution_count": 8,
   "metadata": {},
   "outputs": [
    {
     "name": "stdout",
     "output_type": "stream",
     "text": [
      "Forma de las etiquetas después de one-hot encoding: (15484, 3375)\n",
      "\n",
      "Ejemplo de una etiqueta one-hot:\n",
      "Índice original: 2\n",
      "Vector one-hot: [0. 0. 1. 0. 0. 0. 0. 0. 0. 0.] ...\n"
     ]
    }
   ],
   "source": [
    "# One-hot encode the labels\n",
    "labels = ku.to_categorical(labels, num_classes=total_words)\n",
    "\n",
    "print(\"Forma de las etiquetas después de one-hot encoding:\", labels.shape)\n",
    "print(\"\\nEjemplo de una etiqueta one-hot:\")\n",
    "print(\"Índice original:\", np.argmax(labels[0]))\n",
    "print(\"Vector one-hot:\", labels[0][:10], \"...\") # Mostramos solo los primeros 10 valores"
   ]
  },
  {
   "cell_type": "markdown",
   "metadata": {},
   "source": [
    "# Initialize the Model\n",
    "\n",
    "Start by creating a Sequential model.\n",
    "\n",
    "Add Layers to the Model:\n",
    "\n",
    "Embedding Layer: The first layer is an embedding layer. It converts word indices into dense vectors of fixed size (100 in this case). Set the input length to the maximum sequence length minus one, which corresponds to the number of previous words the model will consider when predicting the next word.\n",
    "\n",
    "Bidirectional LSTM Layer: Add a Bidirectional LSTM layer with 150 units. This layer allows the model to learn context from both directions (past and future) in the sequence. return_sequences=True\n",
    "\n",
    "Dropout Layer: Add a dropout layer with a rate of 0.2 to prevent overfitting by randomly setting 20% of the input units to 0 during training.\n",
    "\n",
    "LSTM Layer: Add a second LSTM layer with 100 units. This layer processes the sequence and passes its output to the next layer.\n",
    "\n",
    "Dense Layer (Intermediate): Add a dense layer with half the total number of words as units, using ReLU activation. A regularization term (L2) is added to prevent overfitting.\n",
    "\n",
    "Dense Layer (Output): The final dense layer has as many units as there are words in the vocabulary, with a softmax activation function to output a probability distribution over all words."
   ]
  },
  {
   "cell_type": "code",
   "execution_count": 9,
   "metadata": {},
   "outputs": [
    {
     "name": "stderr",
     "output_type": "stream",
     "text": [
      "2025-01-08 11:57:09.064563: I metal_plugin/src/device/metal_device.cc:1154] Metal device set to: Apple M3\n",
      "2025-01-08 11:57:09.064580: I metal_plugin/src/device/metal_device.cc:296] systemMemory: 16.00 GB\n",
      "2025-01-08 11:57:09.064585: I metal_plugin/src/device/metal_device.cc:313] maxCacheSize: 5.33 GB\n",
      "2025-01-08 11:57:09.064766: I tensorflow/core/common_runtime/pluggable_device/pluggable_device_factory.cc:305] Could not identify NUMA node of platform GPU ID 0, defaulting to 0. Your kernel may not have been built with NUMA support.\n",
      "2025-01-08 11:57:09.064776: I tensorflow/core/common_runtime/pluggable_device/pluggable_device_factory.cc:271] Created TensorFlow device (/job:localhost/replica:0/task:0/device:GPU:0 with 0 MB memory) -> physical PluggableDevice (device: 0, name: METAL, pci bus id: <undefined>)\n"
     ]
    }
   ],
   "source": [
    "model = Sequential([\n",
    "    # Capa de Embedding: convierte índices de palabras en vectores densos\n",
    "    Embedding(input_dim=total_words, output_dim=100),\n",
    "    \n",
    "    # Primera capa LSTM bidireccional\n",
    "    Bidirectional(LSTM(150, return_sequences=True)),\n",
    "    Dropout(0.2),\n",
    "    \n",
    "    # Segunda capa LSTM\n",
    "    LSTM(100),\n",
    "    \n",
    "    # Capa densa intermedia con regularización\n",
    "    Dense(total_words//2, activation='relu', kernel_regularizer=regularizers.l2(0.01)),\n",
    "    \n",
    "    # Capa de salida\n",
    "    Dense(total_words, activation='softmax')\n",
    "])\n"
   ]
  },
  {
   "cell_type": "markdown",
   "metadata": {},
   "source": [
    "# Compile the Model:\n",
    "\n",
    "Compile the model using categorical crossentropy as the loss function, the Adam optimizer for efficient training, and accuracy as the metric to evaluate during training."
   ]
  },
  {
   "cell_type": "code",
   "execution_count": 10,
   "metadata": {},
   "outputs": [
    {
     "name": "stdout",
     "output_type": "stream",
     "text": [
      "Configuración del modelo:\n",
      "- Loss function: Categorical Crossentropy\n",
      "- Optimizer: Adam (learning rate = 0.001)\n",
      "- Metrics: Accuracy\n"
     ]
    }
   ],
   "source": [
    "# Compilar el modelo\n",
    "model.compile(\n",
    "    loss='categorical_crossentropy',\n",
    "    optimizer=Adam(learning_rate=0.001),\n",
    "    metrics=['accuracy']\n",
    ")\n",
    "\n",
    "print(\"Configuración del modelo:\")\n",
    "print(\"- Loss function: Categorical Crossentropy\")\n",
    "print(\"- Optimizer: Adam (learning rate = 0.001)\")\n",
    "print(\"- Metrics: Accuracy\")\n",
    "\n",
    "# Construir el modelo con las dimensiones de los datos\n",
    "model.build(input_shape=(None, max_sequence_len-1))"
   ]
  },
  {
   "cell_type": "markdown",
   "metadata": {},
   "source": [
    "# Print Model Summary:\n",
    "\n",
    "Use model.summary() to print a summary of the model, which shows the layers, their output shapes, and the number of parameters."
   ]
  },
  {
   "cell_type": "code",
   "execution_count": 11,
   "metadata": {},
   "outputs": [
    {
     "data": {
      "text/html": [
       "<pre style=\"white-space:pre;overflow-x:auto;line-height:normal;font-family:Menlo,'DejaVu Sans Mono',consolas,'Courier New',monospace\"><span style=\"font-weight: bold\">Model: \"sequential\"</span>\n",
       "</pre>\n"
      ],
      "text/plain": [
       "\u001b[1mModel: \"sequential\"\u001b[0m\n"
      ]
     },
     "metadata": {},
     "output_type": "display_data"
    },
    {
     "data": {
      "text/html": [
       "<pre style=\"white-space:pre;overflow-x:auto;line-height:normal;font-family:Menlo,'DejaVu Sans Mono',consolas,'Courier New',monospace\">┏━━━━━━━━━━━━━━━━━━━━━━━━━━━━━━━━━┳━━━━━━━━━━━━━━━━━━━━━━━━┳━━━━━━━━━━━━━━━┓\n",
       "┃<span style=\"font-weight: bold\"> Layer (type)                    </span>┃<span style=\"font-weight: bold\"> Output Shape           </span>┃<span style=\"font-weight: bold\">       Param # </span>┃\n",
       "┡━━━━━━━━━━━━━━━━━━━━━━━━━━━━━━━━━╇━━━━━━━━━━━━━━━━━━━━━━━━╇━━━━━━━━━━━━━━━┩\n",
       "│ embedding (<span style=\"color: #0087ff; text-decoration-color: #0087ff\">Embedding</span>)           │ (<span style=\"color: #00d7ff; text-decoration-color: #00d7ff\">None</span>, <span style=\"color: #00af00; text-decoration-color: #00af00\">10</span>, <span style=\"color: #00af00; text-decoration-color: #00af00\">100</span>)        │       <span style=\"color: #00af00; text-decoration-color: #00af00\">337,500</span> │\n",
       "├─────────────────────────────────┼────────────────────────┼───────────────┤\n",
       "│ bidirectional (<span style=\"color: #0087ff; text-decoration-color: #0087ff\">Bidirectional</span>)   │ (<span style=\"color: #00d7ff; text-decoration-color: #00d7ff\">None</span>, <span style=\"color: #00af00; text-decoration-color: #00af00\">10</span>, <span style=\"color: #00af00; text-decoration-color: #00af00\">300</span>)        │       <span style=\"color: #00af00; text-decoration-color: #00af00\">301,200</span> │\n",
       "├─────────────────────────────────┼────────────────────────┼───────────────┤\n",
       "│ dropout (<span style=\"color: #0087ff; text-decoration-color: #0087ff\">Dropout</span>)               │ (<span style=\"color: #00d7ff; text-decoration-color: #00d7ff\">None</span>, <span style=\"color: #00af00; text-decoration-color: #00af00\">10</span>, <span style=\"color: #00af00; text-decoration-color: #00af00\">300</span>)        │             <span style=\"color: #00af00; text-decoration-color: #00af00\">0</span> │\n",
       "├─────────────────────────────────┼────────────────────────┼───────────────┤\n",
       "│ lstm_1 (<span style=\"color: #0087ff; text-decoration-color: #0087ff\">LSTM</span>)                   │ (<span style=\"color: #00d7ff; text-decoration-color: #00d7ff\">None</span>, <span style=\"color: #00af00; text-decoration-color: #00af00\">100</span>)            │       <span style=\"color: #00af00; text-decoration-color: #00af00\">160,400</span> │\n",
       "├─────────────────────────────────┼────────────────────────┼───────────────┤\n",
       "│ dense (<span style=\"color: #0087ff; text-decoration-color: #0087ff\">Dense</span>)                   │ (<span style=\"color: #00d7ff; text-decoration-color: #00d7ff\">None</span>, <span style=\"color: #00af00; text-decoration-color: #00af00\">1687</span>)           │       <span style=\"color: #00af00; text-decoration-color: #00af00\">170,387</span> │\n",
       "├─────────────────────────────────┼────────────────────────┼───────────────┤\n",
       "│ dense_1 (<span style=\"color: #0087ff; text-decoration-color: #0087ff\">Dense</span>)                 │ (<span style=\"color: #00d7ff; text-decoration-color: #00d7ff\">None</span>, <span style=\"color: #00af00; text-decoration-color: #00af00\">3375</span>)           │     <span style=\"color: #00af00; text-decoration-color: #00af00\">5,697,000</span> │\n",
       "└─────────────────────────────────┴────────────────────────┴───────────────┘\n",
       "</pre>\n"
      ],
      "text/plain": [
       "┏━━━━━━━━━━━━━━━━━━━━━━━━━━━━━━━━━┳━━━━━━━━━━━━━━━━━━━━━━━━┳━━━━━━━━━━━━━━━┓\n",
       "┃\u001b[1m \u001b[0m\u001b[1mLayer (type)                   \u001b[0m\u001b[1m \u001b[0m┃\u001b[1m \u001b[0m\u001b[1mOutput Shape          \u001b[0m\u001b[1m \u001b[0m┃\u001b[1m \u001b[0m\u001b[1m      Param #\u001b[0m\u001b[1m \u001b[0m┃\n",
       "┡━━━━━━━━━━━━━━━━━━━━━━━━━━━━━━━━━╇━━━━━━━━━━━━━━━━━━━━━━━━╇━━━━━━━━━━━━━━━┩\n",
       "│ embedding (\u001b[38;5;33mEmbedding\u001b[0m)           │ (\u001b[38;5;45mNone\u001b[0m, \u001b[38;5;34m10\u001b[0m, \u001b[38;5;34m100\u001b[0m)        │       \u001b[38;5;34m337,500\u001b[0m │\n",
       "├─────────────────────────────────┼────────────────────────┼───────────────┤\n",
       "│ bidirectional (\u001b[38;5;33mBidirectional\u001b[0m)   │ (\u001b[38;5;45mNone\u001b[0m, \u001b[38;5;34m10\u001b[0m, \u001b[38;5;34m300\u001b[0m)        │       \u001b[38;5;34m301,200\u001b[0m │\n",
       "├─────────────────────────────────┼────────────────────────┼───────────────┤\n",
       "│ dropout (\u001b[38;5;33mDropout\u001b[0m)               │ (\u001b[38;5;45mNone\u001b[0m, \u001b[38;5;34m10\u001b[0m, \u001b[38;5;34m300\u001b[0m)        │             \u001b[38;5;34m0\u001b[0m │\n",
       "├─────────────────────────────────┼────────────────────────┼───────────────┤\n",
       "│ lstm_1 (\u001b[38;5;33mLSTM\u001b[0m)                   │ (\u001b[38;5;45mNone\u001b[0m, \u001b[38;5;34m100\u001b[0m)            │       \u001b[38;5;34m160,400\u001b[0m │\n",
       "├─────────────────────────────────┼────────────────────────┼───────────────┤\n",
       "│ dense (\u001b[38;5;33mDense\u001b[0m)                   │ (\u001b[38;5;45mNone\u001b[0m, \u001b[38;5;34m1687\u001b[0m)           │       \u001b[38;5;34m170,387\u001b[0m │\n",
       "├─────────────────────────────────┼────────────────────────┼───────────────┤\n",
       "│ dense_1 (\u001b[38;5;33mDense\u001b[0m)                 │ (\u001b[38;5;45mNone\u001b[0m, \u001b[38;5;34m3375\u001b[0m)           │     \u001b[38;5;34m5,697,000\u001b[0m │\n",
       "└─────────────────────────────────┴────────────────────────┴───────────────┘\n"
      ]
     },
     "metadata": {},
     "output_type": "display_data"
    },
    {
     "data": {
      "text/html": [
       "<pre style=\"white-space:pre;overflow-x:auto;line-height:normal;font-family:Menlo,'DejaVu Sans Mono',consolas,'Courier New',monospace\"><span style=\"font-weight: bold\"> Total params: </span><span style=\"color: #00af00; text-decoration-color: #00af00\">6,666,487</span> (25.43 MB)\n",
       "</pre>\n"
      ],
      "text/plain": [
       "\u001b[1m Total params: \u001b[0m\u001b[38;5;34m6,666,487\u001b[0m (25.43 MB)\n"
      ]
     },
     "metadata": {},
     "output_type": "display_data"
    },
    {
     "data": {
      "text/html": [
       "<pre style=\"white-space:pre;overflow-x:auto;line-height:normal;font-family:Menlo,'DejaVu Sans Mono',consolas,'Courier New',monospace\"><span style=\"font-weight: bold\"> Trainable params: </span><span style=\"color: #00af00; text-decoration-color: #00af00\">6,666,487</span> (25.43 MB)\n",
       "</pre>\n"
      ],
      "text/plain": [
       "\u001b[1m Trainable params: \u001b[0m\u001b[38;5;34m6,666,487\u001b[0m (25.43 MB)\n"
      ]
     },
     "metadata": {},
     "output_type": "display_data"
    },
    {
     "data": {
      "text/html": [
       "<pre style=\"white-space:pre;overflow-x:auto;line-height:normal;font-family:Menlo,'DejaVu Sans Mono',consolas,'Courier New',monospace\"><span style=\"font-weight: bold\"> Non-trainable params: </span><span style=\"color: #00af00; text-decoration-color: #00af00\">0</span> (0.00 B)\n",
       "</pre>\n"
      ],
      "text/plain": [
       "\u001b[1m Non-trainable params: \u001b[0m\u001b[38;5;34m0\u001b[0m (0.00 B)\n"
      ]
     },
     "metadata": {},
     "output_type": "display_data"
    }
   ],
   "source": [
    "# Imprimir resumen del modelo\n",
    "model.summary()\n"
   ]
  },
  {
   "cell_type": "markdown",
   "metadata": {},
   "source": [
    "# Now train the model for 50 epochs and assign it to a variable called history.\n",
    "\n",
    "Training the model with 50 epochs should get you around 40% accuracy.\n",
    "\n",
    "You can train the model for as many epochs as you like depending on the time and computing constraints you are facing. Ideally train it for a larger amount of epochs than 50.\n",
    "\n",
    "That way you will get better text generation at the end.\n",
    "\n",
    "However, dont waste your time."
   ]
  },
  {
   "cell_type": "code",
   "execution_count": 12,
   "metadata": {
    "id": "AIg2f1HBxqof",
    "tags": []
   },
   "outputs": [
    {
     "name": "stdout",
     "output_type": "stream",
     "text": [
      "Epoch 1/50\n"
     ]
    },
    {
     "name": "stderr",
     "output_type": "stream",
     "text": [
      "2025-01-08 11:57:09.861447: I tensorflow/core/grappler/optimizers/custom_graph_optimizer_registry.cc:117] Plugin optimizer for device_type GPU is enabled.\n"
     ]
    },
    {
     "name": "stdout",
     "output_type": "stream",
     "text": [
      "\u001b[1m109/109\u001b[0m \u001b[32m━━━━━━━━━━━━━━━━━━━━\u001b[0m\u001b[37m\u001b[0m \u001b[1m23s\u001b[0m 181ms/step - accuracy: 0.0213 - loss: 8.0441 - val_accuracy: 0.0123 - val_loss: 6.9031\n",
      "Epoch 2/50\n",
      "\u001b[1m109/109\u001b[0m \u001b[32m━━━━━━━━━━━━━━━━━━━━\u001b[0m\u001b[37m\u001b[0m \u001b[1m18s\u001b[0m 168ms/step - accuracy: 0.0262 - loss: 6.5399 - val_accuracy: 0.0219 - val_loss: 6.9661\n",
      "Epoch 3/50\n",
      "\u001b[1m109/109\u001b[0m \u001b[32m━━━━━━━━━━━━━━━━━━━━\u001b[0m\u001b[37m\u001b[0m \u001b[1m18s\u001b[0m 167ms/step - accuracy: 0.0209 - loss: 6.4717 - val_accuracy: 0.0226 - val_loss: 7.0625\n",
      "Epoch 4/50\n",
      "\u001b[1m109/109\u001b[0m \u001b[32m━━━━━━━━━━━━━━━━━━━━\u001b[0m\u001b[37m\u001b[0m \u001b[1m18s\u001b[0m 167ms/step - accuracy: 0.0229 - loss: 6.3531 - val_accuracy: 0.0252 - val_loss: 7.0235\n",
      "Epoch 5/50\n",
      "\u001b[1m109/109\u001b[0m \u001b[32m━━━━━━━━━━━━━━━━━━━━\u001b[0m\u001b[37m\u001b[0m \u001b[1m18s\u001b[0m 168ms/step - accuracy: 0.0324 - loss: 6.2508 - val_accuracy: 0.0252 - val_loss: 7.1756\n",
      "Epoch 6/50\n",
      "\u001b[1m109/109\u001b[0m \u001b[32m━━━━━━━━━━━━━━━━━━━━\u001b[0m\u001b[37m\u001b[0m \u001b[1m18s\u001b[0m 169ms/step - accuracy: 0.0345 - loss: 6.1804 - val_accuracy: 0.0245 - val_loss: 7.1482\n",
      "Epoch 7/50\n",
      "\u001b[1m109/109\u001b[0m \u001b[32m━━━━━━━━━━━━━━━━━━━━\u001b[0m\u001b[37m\u001b[0m \u001b[1m19s\u001b[0m 177ms/step - accuracy: 0.0364 - loss: 6.0988 - val_accuracy: 0.0239 - val_loss: 7.1479\n",
      "Epoch 8/50\n",
      "\u001b[1m109/109\u001b[0m \u001b[32m━━━━━━━━━━━━━━━━━━━━\u001b[0m\u001b[37m\u001b[0m \u001b[1m18s\u001b[0m 169ms/step - accuracy: 0.0374 - loss: 6.0433 - val_accuracy: 0.0284 - val_loss: 7.2433\n",
      "Epoch 9/50\n",
      "\u001b[1m109/109\u001b[0m \u001b[32m━━━━━━━━━━━━━━━━━━━━\u001b[0m\u001b[37m\u001b[0m \u001b[1m18s\u001b[0m 169ms/step - accuracy: 0.0428 - loss: 5.9664 - val_accuracy: 0.0284 - val_loss: 7.3277\n",
      "Epoch 10/50\n",
      "\u001b[1m109/109\u001b[0m \u001b[32m━━━━━━━━━━━━━━━━━━━━\u001b[0m\u001b[37m\u001b[0m \u001b[1m18s\u001b[0m 169ms/step - accuracy: 0.0430 - loss: 5.8880 - val_accuracy: 0.0336 - val_loss: 7.4343\n",
      "Epoch 11/50\n",
      "\u001b[1m109/109\u001b[0m \u001b[32m━━━━━━━━━━━━━━━━━━━━\u001b[0m\u001b[37m\u001b[0m \u001b[1m18s\u001b[0m 169ms/step - accuracy: 0.0500 - loss: 5.8313 - val_accuracy: 0.0323 - val_loss: 7.6370\n",
      "Epoch 12/50\n",
      "\u001b[1m109/109\u001b[0m \u001b[32m━━━━━━━━━━━━━━━━━━━━\u001b[0m\u001b[37m\u001b[0m \u001b[1m19s\u001b[0m 177ms/step - accuracy: 0.0495 - loss: 5.7279 - val_accuracy: 0.0329 - val_loss: 7.6131\n",
      "Epoch 13/50\n",
      "\u001b[1m109/109\u001b[0m \u001b[32m━━━━━━━━━━━━━━━━━━━━\u001b[0m\u001b[37m\u001b[0m \u001b[1m20s\u001b[0m 181ms/step - accuracy: 0.0535 - loss: 5.6838 - val_accuracy: 0.0323 - val_loss: 7.6854\n",
      "Epoch 14/50\n",
      "\u001b[1m109/109\u001b[0m \u001b[32m━━━━━━━━━━━━━━━━━━━━\u001b[0m\u001b[37m\u001b[0m \u001b[1m19s\u001b[0m 172ms/step - accuracy: 0.0542 - loss: 5.6262 - val_accuracy: 0.0303 - val_loss: 7.7659\n",
      "Epoch 15/50\n",
      "\u001b[1m109/109\u001b[0m \u001b[32m━━━━━━━━━━━━━━━━━━━━\u001b[0m\u001b[37m\u001b[0m \u001b[1m18s\u001b[0m 169ms/step - accuracy: 0.0609 - loss: 5.5526 - val_accuracy: 0.0362 - val_loss: 7.8119\n",
      "Epoch 16/50\n",
      "\u001b[1m109/109\u001b[0m \u001b[32m━━━━━━━━━━━━━━━━━━━━\u001b[0m\u001b[37m\u001b[0m \u001b[1m19s\u001b[0m 173ms/step - accuracy: 0.0688 - loss: 5.4721 - val_accuracy: 0.0362 - val_loss: 7.8829\n",
      "Epoch 17/50\n",
      "\u001b[1m109/109\u001b[0m \u001b[32m━━━━━━━━━━━━━━━━━━━━\u001b[0m\u001b[37m\u001b[0m \u001b[1m20s\u001b[0m 182ms/step - accuracy: 0.0648 - loss: 5.4201 - val_accuracy: 0.0368 - val_loss: 8.0164\n",
      "Epoch 18/50\n",
      "\u001b[1m109/109\u001b[0m \u001b[32m━━━━━━━━━━━━━━━━━━━━\u001b[0m\u001b[37m\u001b[0m \u001b[1m20s\u001b[0m 187ms/step - accuracy: 0.0705 - loss: 5.3553 - val_accuracy: 0.0439 - val_loss: 8.0768\n",
      "Epoch 19/50\n",
      "\u001b[1m109/109\u001b[0m \u001b[32m━━━━━━━━━━━━━━━━━━━━\u001b[0m\u001b[37m\u001b[0m \u001b[1m19s\u001b[0m 176ms/step - accuracy: 0.0712 - loss: 5.3045 - val_accuracy: 0.0374 - val_loss: 8.2125\n",
      "Epoch 20/50\n",
      "\u001b[1m109/109\u001b[0m \u001b[32m━━━━━━━━━━━━━━━━━━━━\u001b[0m\u001b[37m\u001b[0m \u001b[1m19s\u001b[0m 175ms/step - accuracy: 0.0694 - loss: 5.2536 - val_accuracy: 0.0433 - val_loss: 8.1608\n",
      "Epoch 21/50\n",
      "\u001b[1m109/109\u001b[0m \u001b[32m━━━━━━━━━━━━━━━━━━━━\u001b[0m\u001b[37m\u001b[0m \u001b[1m19s\u001b[0m 174ms/step - accuracy: 0.0782 - loss: 5.1782 - val_accuracy: 0.0471 - val_loss: 8.3530\n",
      "Epoch 22/50\n",
      "\u001b[1m109/109\u001b[0m \u001b[32m━━━━━━━━━━━━━━━━━━━━\u001b[0m\u001b[37m\u001b[0m \u001b[1m19s\u001b[0m 170ms/step - accuracy: 0.0772 - loss: 5.1063 - val_accuracy: 0.0439 - val_loss: 8.3206\n",
      "Epoch 23/50\n",
      "\u001b[1m109/109\u001b[0m \u001b[32m━━━━━━━━━━━━━━━━━━━━\u001b[0m\u001b[37m\u001b[0m \u001b[1m19s\u001b[0m 170ms/step - accuracy: 0.0842 - loss: 5.0707 - val_accuracy: 0.0407 - val_loss: 8.4546\n",
      "Epoch 24/50\n",
      "\u001b[1m109/109\u001b[0m \u001b[32m━━━━━━━━━━━━━━━━━━━━\u001b[0m\u001b[37m\u001b[0m \u001b[1m19s\u001b[0m 171ms/step - accuracy: 0.0889 - loss: 4.9985 - val_accuracy: 0.0362 - val_loss: 8.5956\n",
      "Epoch 25/50\n",
      "\u001b[1m109/109\u001b[0m \u001b[32m━━━━━━━━━━━━━━━━━━━━\u001b[0m\u001b[37m\u001b[0m \u001b[1m19s\u001b[0m 170ms/step - accuracy: 0.0838 - loss: 4.9765 - val_accuracy: 0.0426 - val_loss: 8.5986\n",
      "Epoch 26/50\n",
      "\u001b[1m109/109\u001b[0m \u001b[32m━━━━━━━━━━━━━━━━━━━━\u001b[0m\u001b[37m\u001b[0m \u001b[1m19s\u001b[0m 170ms/step - accuracy: 0.0870 - loss: 4.9251 - val_accuracy: 0.0394 - val_loss: 8.6686\n",
      "Epoch 27/50\n",
      "\u001b[1m109/109\u001b[0m \u001b[32m━━━━━━━━━━━━━━━━━━━━\u001b[0m\u001b[37m\u001b[0m \u001b[1m19s\u001b[0m 170ms/step - accuracy: 0.0927 - loss: 4.8631 - val_accuracy: 0.0374 - val_loss: 8.7045\n",
      "Epoch 28/50\n",
      "\u001b[1m109/109\u001b[0m \u001b[32m━━━━━━━━━━━━━━━━━━━━\u001b[0m\u001b[37m\u001b[0m \u001b[1m19s\u001b[0m 171ms/step - accuracy: 0.0991 - loss: 4.8037 - val_accuracy: 0.0374 - val_loss: 8.9397\n",
      "Epoch 29/50\n",
      "\u001b[1m109/109\u001b[0m \u001b[32m━━━━━━━━━━━━━━━━━━━━\u001b[0m\u001b[37m\u001b[0m \u001b[1m19s\u001b[0m 170ms/step - accuracy: 0.1007 - loss: 4.7563 - val_accuracy: 0.0400 - val_loss: 9.0468\n",
      "Epoch 30/50\n",
      "\u001b[1m109/109\u001b[0m \u001b[32m━━━━━━━━━━━━━━━━━━━━\u001b[0m\u001b[37m\u001b[0m \u001b[1m18s\u001b[0m 169ms/step - accuracy: 0.1051 - loss: 4.6819 - val_accuracy: 0.0323 - val_loss: 9.0898\n",
      "Epoch 31/50\n",
      "\u001b[1m109/109\u001b[0m \u001b[32m━━━━━━━━━━━━━━━━━━━━\u001b[0m\u001b[37m\u001b[0m \u001b[1m18s\u001b[0m 169ms/step - accuracy: 0.1082 - loss: 4.6443 - val_accuracy: 0.0349 - val_loss: 9.1700\n",
      "Epoch 32/50\n",
      "\u001b[1m109/109\u001b[0m \u001b[32m━━━━━━━━━━━━━━━━━━━━\u001b[0m\u001b[37m\u001b[0m \u001b[1m18s\u001b[0m 169ms/step - accuracy: 0.1225 - loss: 4.5648 - val_accuracy: 0.0394 - val_loss: 9.4180\n",
      "Epoch 33/50\n",
      "\u001b[1m109/109\u001b[0m \u001b[32m━━━━━━━━━━━━━━━━━━━━\u001b[0m\u001b[37m\u001b[0m \u001b[1m18s\u001b[0m 169ms/step - accuracy: 0.1295 - loss: 4.5208 - val_accuracy: 0.0374 - val_loss: 9.4251\n",
      "Epoch 34/50\n",
      "\u001b[1m109/109\u001b[0m \u001b[32m━━━━━━━━━━━━━━━━━━━━\u001b[0m\u001b[37m\u001b[0m \u001b[1m18s\u001b[0m 168ms/step - accuracy: 0.1398 - loss: 4.4352 - val_accuracy: 0.0400 - val_loss: 9.4756\n",
      "Epoch 35/50\n",
      "\u001b[1m109/109\u001b[0m \u001b[32m━━━━━━━━━━━━━━━━━━━━\u001b[0m\u001b[37m\u001b[0m \u001b[1m18s\u001b[0m 168ms/step - accuracy: 0.1396 - loss: 4.3807 - val_accuracy: 0.0381 - val_loss: 9.6938\n",
      "Epoch 36/50\n",
      "\u001b[1m109/109\u001b[0m \u001b[32m━━━━━━━━━━━━━━━━━━━━\u001b[0m\u001b[37m\u001b[0m \u001b[1m18s\u001b[0m 169ms/step - accuracy: 0.1475 - loss: 4.3160 - val_accuracy: 0.0407 - val_loss: 9.8889\n",
      "Epoch 37/50\n",
      "\u001b[1m109/109\u001b[0m \u001b[32m━━━━━━━━━━━━━━━━━━━━\u001b[0m\u001b[37m\u001b[0m \u001b[1m18s\u001b[0m 170ms/step - accuracy: 0.1578 - loss: 4.2748 - val_accuracy: 0.0349 - val_loss: 10.0903\n",
      "Epoch 38/50\n",
      "\u001b[1m109/109\u001b[0m \u001b[32m━━━━━━━━━━━━━━━━━━━━\u001b[0m\u001b[37m\u001b[0m \u001b[1m19s\u001b[0m 170ms/step - accuracy: 0.1648 - loss: 4.2201 - val_accuracy: 0.0284 - val_loss: 10.0609\n",
      "Epoch 39/50\n",
      "\u001b[1m109/109\u001b[0m \u001b[32m━━━━━━━━━━━━━━━━━━━━\u001b[0m\u001b[37m\u001b[0m \u001b[1m18s\u001b[0m 170ms/step - accuracy: 0.1712 - loss: 4.1685 - val_accuracy: 0.0349 - val_loss: 10.2478\n",
      "Epoch 40/50\n",
      "\u001b[1m109/109\u001b[0m \u001b[32m━━━━━━━━━━━━━━━━━━━━\u001b[0m\u001b[37m\u001b[0m \u001b[1m19s\u001b[0m 170ms/step - accuracy: 0.1885 - loss: 4.0877 - val_accuracy: 0.0374 - val_loss: 10.2843\n",
      "Epoch 41/50\n",
      "\u001b[1m109/109\u001b[0m \u001b[32m━━━━━━━━━━━━━━━━━━━━\u001b[0m\u001b[37m\u001b[0m \u001b[1m19s\u001b[0m 170ms/step - accuracy: 0.1952 - loss: 4.0224 - val_accuracy: 0.0349 - val_loss: 10.5421\n",
      "Epoch 42/50\n",
      "\u001b[1m109/109\u001b[0m \u001b[32m━━━━━━━━━━━━━━━━━━━━\u001b[0m\u001b[37m\u001b[0m \u001b[1m19s\u001b[0m 170ms/step - accuracy: 0.2018 - loss: 3.9827 - val_accuracy: 0.0349 - val_loss: 10.6010\n",
      "Epoch 43/50\n",
      "\u001b[1m109/109\u001b[0m \u001b[32m━━━━━━━━━━━━━━━━━━━━\u001b[0m\u001b[37m\u001b[0m \u001b[1m19s\u001b[0m 170ms/step - accuracy: 0.2096 - loss: 3.8936 - val_accuracy: 0.0271 - val_loss: 10.6125\n",
      "Epoch 44/50\n",
      "\u001b[1m109/109\u001b[0m \u001b[32m━━━━━━━━━━━━━━━━━━━━\u001b[0m\u001b[37m\u001b[0m \u001b[1m19s\u001b[0m 171ms/step - accuracy: 0.2300 - loss: 3.8400 - val_accuracy: 0.0316 - val_loss: 10.7994\n",
      "Epoch 45/50\n",
      "\u001b[1m109/109\u001b[0m \u001b[32m━━━━━━━━━━━━━━━━━━━━\u001b[0m\u001b[37m\u001b[0m \u001b[1m18s\u001b[0m 169ms/step - accuracy: 0.2368 - loss: 3.7722 - val_accuracy: 0.0368 - val_loss: 11.0637\n",
      "Epoch 46/50\n",
      "\u001b[1m109/109\u001b[0m \u001b[32m━━━━━━━━━━━━━━━━━━━━\u001b[0m\u001b[37m\u001b[0m \u001b[1m19s\u001b[0m 170ms/step - accuracy: 0.2468 - loss: 3.7352 - val_accuracy: 0.0355 - val_loss: 11.3606\n",
      "Epoch 47/50\n",
      "\u001b[1m109/109\u001b[0m \u001b[32m━━━━━━━━━━━━━━━━━━━━\u001b[0m\u001b[37m\u001b[0m \u001b[1m18s\u001b[0m 169ms/step - accuracy: 0.2542 - loss: 3.6725 - val_accuracy: 0.0349 - val_loss: 11.2442\n",
      "Epoch 48/50\n",
      "\u001b[1m109/109\u001b[0m \u001b[32m━━━━━━━━━━━━━━━━━━━━\u001b[0m\u001b[37m\u001b[0m \u001b[1m19s\u001b[0m 170ms/step - accuracy: 0.2697 - loss: 3.5978 - val_accuracy: 0.0303 - val_loss: 11.4745\n",
      "Epoch 49/50\n",
      "\u001b[1m109/109\u001b[0m \u001b[32m━━━━━━━━━━━━━━━━━━━━\u001b[0m\u001b[37m\u001b[0m \u001b[1m18s\u001b[0m 169ms/step - accuracy: 0.2818 - loss: 3.5491 - val_accuracy: 0.0310 - val_loss: 11.6670\n",
      "Epoch 50/50\n",
      "\u001b[1m109/109\u001b[0m \u001b[32m━━━━━━━━━━━━━━━━━━━━\u001b[0m\u001b[37m\u001b[0m \u001b[1m19s\u001b[0m 170ms/step - accuracy: 0.2936 - loss: 3.4956 - val_accuracy: 0.0297 - val_loss: 11.7601\n",
      "\n",
      "Resumen del entrenamiento:\n",
      "Épocas completadas: 50\n",
      "Accuracy final: 0.2712\n",
      "Loss final: 3.5911\n"
     ]
    }
   ],
   "source": [
    "# Entrenar el modelo\n",
    "history = model.fit(\n",
    "    predictors,\n",
    "    labels,\n",
    "    epochs=50,\n",
    "    batch_size=128,\n",
    "    validation_split=0.1,\n",
    "    verbose=1\n",
    ")\n",
    "\n",
    "print(\"\\nResumen del entrenamiento:\")\n",
    "print(f\"Épocas completadas: {len(history.history['loss'])}\")\n",
    "print(f\"Accuracy final: {history.history['accuracy'][-1]:.4f}\")\n",
    "print(f\"Loss final: {history.history['loss'][-1]:.4f}\")"
   ]
  },
  {
   "cell_type": "markdown",
   "metadata": {},
   "source": [
    "# Use plt from matplotlib to plot the training accuracy over epochs and the loss over epochs"
   ]
  },
  {
   "cell_type": "markdown",
   "metadata": {},
   "source": [
    "First you will have to get the accuracy and loss data over epochs, you can do this by using methods on your model."
   ]
  },
  {
   "cell_type": "code",
   "execution_count": 17,
   "metadata": {
    "id": "1fXTEO3GJ282",
    "tags": []
   },
   "outputs": [
    {
     "data": {
      "image/png": "[encoded data removed]",
      "text/plain": [
       "<Figure size 1200x400 with 2 Axes>"
      ]
     },
     "metadata": {},
     "output_type": "display_data"
    }
   ],
   "source": [
    "import matplotlib.pyplot as plt\n",
    "\n",
    "# Graficar el historial de entrenamiento\n",
    "plt.figure(figsize=(12, 4))\n",
    "\n",
    "# Subplot para accuracy\n",
    "plt.subplot(1, 2, 1)\n",
    "plt.plot(history.history['accuracy'], label='Training Accuracy')\n",
    "plt.plot(history.history['val_accuracy'], label='Validation Accuracy')\n",
    "plt.title('Model Accuracy')\n",
    "plt.xlabel('Epoch')\n",
    "plt.ylabel('Accuracy')\n",
    "plt.legend()\n",
    "\n",
    "# Subplot para loss\n",
    "plt.subplot(1, 2, 2)\n",
    "plt.plot(history.history['loss'], label='Training Loss')\n",
    "plt.plot(history.history['val_loss'], label='Validation Loss')\n",
    "plt.title('Model Loss')\n",
    "plt.xlabel('Epoch')\n",
    "plt.ylabel('Loss')\n",
    "plt.legend()\n",
    "\n",
    "plt.tight_layout()\n",
    "plt.show()"
   ]
  },
  {
   "cell_type": "markdown",
   "metadata": {},
   "source": [
    "# Generate text with the model based on a seed text\n",
    "\n",
    "Now you will create two variables :\n",
    "\n",
    "- seed_text = 'Write the text you want the model to use as a starting point to generate the next words'\n",
    "- next_words = number_of_words_you_want_the_model_to_generate\n",
    "\n",
    "Please change number_of_words_you_want_the_model_to_generate by an actual integer."
   ]
  },
  {
   "cell_type": "code",
   "execution_count": 18,
   "metadata": {},
   "outputs": [
    {
     "name": "stdout",
     "output_type": "stream",
     "text": [
      "Texto generado:\n",
      "shall i compare thee to my love of men ' write to me prove thee my report state truth ' lie to thee shines none\n"
     ]
    }
   ],
   "source": [
    "# Definir función para generar texto\n",
    "def generate_text(seed_text, next_words, model, max_sequence_len):\n",
    "    for _ in range(next_words):\n",
    "        # Tokenizar el texto semilla\n",
    "        token_list = tokenizer.texts_to_sequences([seed_text])[0]\n",
    "        # Padding\n",
    "        token_list = pad_sequences([token_list], maxlen=max_sequence_len-1, padding='pre')\n",
    "        # Predecir\n",
    "        predicted = model.predict(token_list, verbose=0)\n",
    "        # Obtener el índice de la palabra con mayor probabilidad\n",
    "        predicted = np.argmax(predicted, axis=-1)\n",
    "        # Convertir el índice a palabra\n",
    "        output_word = \"\"\n",
    "        for word, index in tokenizer.word_index.items():\n",
    "            if index == predicted:\n",
    "                output_word = word\n",
    "                break\n",
    "        # Añadir la palabra al texto semilla\n",
    "        seed_text += \" \" + output_word\n",
    "    return seed_text\n",
    "\n",
    "# Probar la generación\n",
    "seed_text = \"shall i compare thee to\"\n",
    "next_words = 20\n",
    "\n",
    "print(\"Texto generado:\")\n",
    "print(generate_text(seed_text, next_words, model, max_sequence_len))"
   ]
  },
  {
   "cell_type": "markdown",
   "metadata": {},
   "source": [
    "Now create a loop that runs based on the next_words variable and generates new text based on your seed_text input string. Print the full text with the generated text at the end.\n",
    "\n",
    "This time you dont get detailed instructions.\n",
    "\n",
    "Have fun!"
   ]
  },
  {
   "cell_type": "code",
   "execution_count": 19,
   "metadata": {
    "id": "6Vc6PHgxa6Hm",
    "tags": []
   },
   "outputs": [
    {
     "name": "stdout",
     "output_type": "stream",
     "text": [
      "Generando diferentes textos:\n",
      "\n",
      "Semilla: 'shall i compare thee to'\n",
      "Resultado: shall i compare thee to my love of men ' write to me prove thee my report state truth ' lie to thee shines none\n",
      "\n",
      "Semilla: 'my love is like a'\n",
      "Resultado: my love is like a stage starved yet to me be none dead hate dwell say lie alone to me more are old more report\n",
      "\n",
      "Semilla: 'when in disgrace with fortune'\n",
      "Resultado: when in disgrace with fortune and lend me eye do show me say shines art time say such tend respect lie to me prove me\n",
      "\n"
     ]
    }
   ],
   "source": [
    "# Probar diferentes semillas de texto\n",
    "seed_texts = [\n",
    "    \"shall i compare thee to\",\n",
    "    \"my love is like a\",\n",
    "    \"when in disgrace with fortune\"\n",
    "]\n",
    "\n",
    "print(\"Generando diferentes textos:\\n\")\n",
    "for seed in seed_texts:\n",
    "    print(f\"Semilla: '{seed}'\")\n",
    "    generated = generate_text(seed, next_words=20, model=model, max_sequence_len=max_sequence_len)\n",
    "    print(f\"Resultado: {generated}\\n\")"
   ]
  },
  {
   "cell_type": "markdown",
   "metadata": {},
   "source": [
    "Experiment with at least 3 different seed_text strings and see what happens!"
   ]
  },
  {
   "cell_type": "code",
   "execution_count": 20,
   "metadata": {},
   "outputs": [
    {
     "name": "stdout",
     "output_type": "stream",
     "text": [
      "Experimento 1: Texto corto\n",
      "\n",
      "Generando 10 palabras a partir de: 'love is'\n",
      "\n",
      "Texto generado:\n",
      "love is my heart in thy sake phoenix and such green thee\n",
      "\n",
      "Experimento 2: Texto medio\n",
      "\n",
      "Generando 15 palabras a partir de: 'the world is'\n",
      "\n",
      "Texto generado:\n",
      "the world is found in a dream doth part ' none often of thee men lie ' are\n",
      "\n",
      "Experimento 3: Texto largo\n",
      "\n",
      "Generando 25 palabras a partir de: 'in the summer's day'\n",
      "\n",
      "Texto generado:\n",
      "in the summer's day is lost in my love of me uphold ride grow men ' none made me lie of men too report lie by thee green me\n"
     ]
    },
    {
     "data": {
      "text/plain": [
       "\"in the summer's day is lost in my love of me uphold ride grow men ' none made me lie of men too report lie by thee green me\""
      ]
     },
     "execution_count": 20,
     "metadata": {},
     "output_type": "execute_result"
    }
   ],
   "source": [
    "def generate_shakespeare(seed_text, num_words=20):\n",
    "    \"\"\"\n",
    "    Función interactiva para generar texto estilo Shakespeare\n",
    "    \"\"\"\n",
    "    print(f\"\\nGenerando {num_words} palabras a partir de: '{seed_text}'\")\n",
    "    result = generate_text(seed_text, num_words, model, max_sequence_len)\n",
    "    print(\"\\nTexto generado:\")\n",
    "    print(result)\n",
    "    return result\n",
    "\n",
    "# Ejemplos de uso con diferentes longitudes\n",
    "print(\"Experimento 1: Texto corto\")\n",
    "generate_shakespeare(\"love is\", 10)\n",
    "\n",
    "print(\"\\nExperimento 2: Texto medio\")\n",
    "generate_shakespeare(\"the world is\", 15)\n",
    "\n",
    "print(\"\\nExperimento 3: Texto largo\")\n",
    "generate_shakespeare(\"in the summer's day\", 25)"
   ]
  }
 ],
 "metadata": {
  "accelerator": "GPU",
  "colab": {
   "name": "NLP_Week4_Exercise_Shakespeare_Answer.ipynb",
   "provenance": [],
   "toc_visible": true
  },
  "kernelspec": {
   "display_name": "Python 3 (ipykernel)",
   "language": "python",
   "name": "python3"
  },
  "language_info": {
   "codemirror_mode": {
    "name": "ipython",
    "version": 3
   },
   "file_extension": ".py",
   "mimetype": "text/x-python",
   "name": "python",
   "nbconvert_exporter": "python",
   "pygments_lexer": "ipython3",
   "version": "3.11.11"
  }
 },
 "nbformat": 4,
 "nbformat_minor": 4
}
